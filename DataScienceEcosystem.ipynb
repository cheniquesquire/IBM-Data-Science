{
  "metadata": {
    "kernelspec": {
      "name": "python",
      "display_name": "Python (Pyodide)",
      "language": "python"
    },
    "language_info": {
      "codemirror_mode": {
        "name": "python",
        "version": 3
      },
      "file_extension": ".py",
      "mimetype": "text/x-python",
      "name": "python",
      "nbconvert_exporter": "python",
      "pygments_lexer": "ipython3",
      "version": "3.8"
    }
  },
  "nbformat_minor": 5,
  "nbformat": 4,
  "cells": [
    {
      "id": "c8f6f83d-7a5b-4390-854c-056cf892a401",
      "cell_type": "markdown",
      "source": "# Data Science Tools and Ecosystem",
      "metadata": {}
    },
    {
      "id": "7ebb1c0a-e33e-447f-8d58-8f47d94b7ff7",
      "cell_type": "markdown",
      "source": "In this notebook, Data Science Tools and Ecosystems are summarized.",
      "metadata": {}
    },
    {
      "id": "b2a92eec-258f-4e7b-9564-a2f9f189dc7c",
      "cell_type": "markdown",
      "source": "__Objectives:__\n\n-List popular languages for Data Science.\n\n-Create a Jupyter Notebook with markdown and code cells.\n\n-List development evnironment open source tools used in data science.\n\n-Demonstrate proficiency in Data Science toolkit knowledge.",
      "metadata": {}
    },
    {
      "id": "a1dac7bb-1944-4a22-b3f2-80171b0a2bb8",
      "cell_type": "markdown",
      "source": "Some of the popular languages that Data Scientist use are:\n1. Python\n2. SQL\n3. Java\n4. R",
      "metadata": {}
    },
    {
      "id": "a52fd0d4-9ad5-4d9a-914b-f028bb5a9b60",
      "cell_type": "markdown",
      "source": "Some of the commonly used libraries used by Data Scientist include: \n1. Pandas\n2. NumPy\n3. Matplotlib\n4. Seaborn",
      "metadata": {}
    },
    {
      "id": "d9c6893e-673d-4653-9854-7c3774f273a5",
      "cell_type": "markdown",
      "source": "|Data Science Tools|\n|------------------|\n|Rstudio|\n|Apache Hadoop|\n|Scikit-Learn|\n",
      "metadata": {}
    },
    {
      "id": "6f47ee04-803a-4f0e-b75d-84142a67dbbf",
      "cell_type": "markdown",
      "source": "### Below are a few examples of evaluating arithmetic expressios in Python ",
      "metadata": {}
    },
    {
      "id": "ef89ae00-3fce-4663-9837-a980342ab457",
      "cell_type": "code",
      "source": "# This is a simple arithmetic expression to multiply then add interegers.\n(3*4)+5",
      "metadata": {
        "trusted": true
      },
      "outputs": [
        {
          "execution_count": 4,
          "output_type": "execute_result",
          "data": {
            "text/plain": "17"
          },
          "metadata": {}
        }
      ],
      "execution_count": 4
    },
    {
      "id": "1de10389-fb38-4e67-bed4-17cf7ceca83f",
      "cell_type": "code",
      "source": "#This will convert 200 minutes to hours by dividing by 60\ndef minutes_to_hours (minutes):\n    hours=minutes/60\n    return hours\n\nminutes=200\nprint(f\"{minutes} minutes is  {minutes_to_hours (minutes)} hours\")\n",
      "metadata": {
        "trusted": true
      },
      "outputs": [
        {
          "name": "stdout",
          "output_type": "stream",
          "text": "200 minutes is  3.3333333333333335 hours\n"
        }
      ],
      "execution_count": 15
    },
    {
      "id": "45ef7b70-7b84-4a7e-92bf-0c35cac5c3ca",
      "cell_type": "markdown",
      "source": "## Author\n\nChenique Squire",
      "metadata": {}
    },
    {
      "id": "df01935e-e940-4aab-ad6c-a5e4404c2883",
      "cell_type": "code",
      "source": "",
      "metadata": {
        "trusted": true
      },
      "outputs": [],
      "execution_count": null
    }
  ]
}